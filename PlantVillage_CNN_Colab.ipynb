{
 "cells": [
  {
   "cell_type": "markdown",
   "id": "9f91ffb9",
   "metadata": {},
   "source": [
    "# 🧠 Crop Disease Classification with CNN (PlantVillage via TFDS)\n",
    "\n",
    "This Colab notebook loads the PlantVillage dataset, trains a CNN model, and saves it for deployment."
   ]
  },
  {
   "cell_type": "markdown",
   "id": "7627c1fe",
   "metadata": {},
   "source": [
    "## 📥 Step 1: Install Required Libraries (if needed)"
   ]
  },
  {
   "cell_type": "code",
   "execution_count": null,
   "id": "d1666f5a",
   "metadata": {},
   "outputs": [],
   "source": [
    "!pip install tensorflow tensorflow-datasets matplotlib"
   ]
  },
  {
   "cell_type": "markdown",
   "id": "e842d5e1",
   "metadata": {},
   "source": [
    "## 📦 Step 2: Import Libraries"
   ]
  },
  {
   "cell_type": "code",
   "execution_count": null,
   "id": "0a51147d",
   "metadata": {},
   "outputs": [],
   "source": [
    "import tensorflow_datasets as tfds\n",
    "import tensorflow as tf\n",
    "import matplotlib.pyplot as plt\n"
   ]
  },
  {
   "cell_type": "markdown",
   "id": "2ea3f92f",
   "metadata": {},
   "source": [
    "## 🌱 Step 3: Load the PlantVillage Dataset from TFDS"
   ]
  },
  {
   "cell_type": "code",
   "execution_count": null,
   "id": "23e299c4",
   "metadata": {},
   "outputs": [],
   "source": [
    "(ds_train, ds_val), ds_info = tfds.load(\n",
    "    'plant_village',\n",
    "    split=['train[:80%]', 'train[80%:]'],\n",
    "    shuffle_files=True,\n",
    "    as_supervised=True,\n",
    "    with_info=True\n",
    ")\n",
    "\n",
    "class_names = ds_info.features['label'].names\n",
    "num_classes = ds_info.features['label'].num_classes\n",
    "\n",
    "print(f\"Total Classes: {num_classes}\")\n",
    "print(\"Sample classes:\", class_names[:5])\n"
   ]
  },
  {
   "cell_type": "markdown",
   "id": "1a07fbf8",
   "metadata": {},
   "source": [
    "## 🧼 Step 4: Preprocess & Visualize"
   ]
  },
  {
   "cell_type": "code",
   "execution_count": null,
   "id": "0cb7f377",
   "metadata": {},
   "outputs": [],
   "source": [
    "def format_example(image, label):\n",
    "    image = tf.image.resize(image, (128, 128)) / 255.0\n",
    "    return image, label\n",
    "\n",
    "ds_train = ds_train.map(format_example).batch(32).prefetch(tf.data.AUTOTUNE)\n",
    "ds_val = ds_val.map(format_example).batch(32).prefetch(tf.data.AUTOTUNE)\n",
    "\n",
    "# Show sample\n",
    "for images, labels in ds_train.take(1):\n",
    "    plt.imshow(images[0])\n",
    "    plt.title(f\"Label: {class_names[labels[0].numpy()]}\")\n",
    "    plt.axis('off')\n",
    "    plt.show()\n"
   ]
  },
  {
   "cell_type": "markdown",
   "id": "f13a9d67",
   "metadata": {},
   "source": [
    "## 🧠 Step 5: Build CNN Model"
   ]
  },
  {
   "cell_type": "code",
   "execution_count": null,
   "id": "5544145a",
   "metadata": {},
   "outputs": [],
   "source": [
    "model = tf.keras.Sequential([\n",
    "    tf.keras.layers.Conv2D(32, (3,3), activation='relu', input_shape=(128, 128, 3)),\n",
    "    tf.keras.layers.MaxPooling2D(2,2),\n",
    "\n",
    "    tf.keras.layers.Conv2D(64, (3,3), activation='relu'),\n",
    "    tf.keras.layers.MaxPooling2D(2,2),\n",
    "\n",
    "    tf.keras.layers.Conv2D(128, (3,3), activation='relu'),\n",
    "    tf.keras.layers.MaxPooling2D(2,2),\n",
    "\n",
    "    tf.keras.layers.Flatten(),\n",
    "    tf.keras.layers.Dense(128, activation='relu'),\n",
    "    tf.keras.layers.Dropout(0.5),\n",
    "    tf.keras.layers.Dense(num_classes, activation='softmax')\n",
    "])\n",
    "\n",
    "model.compile(optimizer='adam', loss='sparse_categorical_crossentropy', metrics=['accuracy'])\n",
    "model.summary()\n"
   ]
  },
  {
   "cell_type": "markdown",
   "id": "3c01ed65",
   "metadata": {},
   "source": [
    "## 🏋️‍♀️ Step 6: Train the Model"
   ]
  },
  {
   "cell_type": "code",
   "execution_count": null,
   "id": "6facadb9",
   "metadata": {},
   "outputs": [],
   "source": [
    "history = model.fit(\n",
    "    ds_train,\n",
    "    validation_data=ds_val,\n",
    "    epochs=10\n",
    ")\n"
   ]
  },
  {
   "cell_type": "markdown",
   "id": "f1cc51b8",
   "metadata": {},
   "source": [
    "## 📈 Step 7: Evaluate"
   ]
  },
  {
   "cell_type": "code",
   "execution_count": null,
   "id": "2a92aa13",
   "metadata": {},
   "outputs": [],
   "source": [
    "plt.plot(history.history['accuracy'], label='Train Accuracy')\n",
    "plt.plot(history.history['val_accuracy'], label='Val Accuracy')\n",
    "plt.title('Accuracy Over Epochs')\n",
    "plt.xlabel('Epoch')\n",
    "plt.ylabel('Accuracy')\n",
    "plt.legend()\n",
    "plt.show()\n"
   ]
  },
  {
   "cell_type": "markdown",
   "id": "aeabd716",
   "metadata": {},
   "source": [
    "## 💾 Step 8: Save the Model"
   ]
  },
  {
   "cell_type": "code",
   "execution_count": null,
   "id": "75ffb3e8",
   "metadata": {},
   "outputs": [],
   "source": [
    "model.save(\"crop_model.h5\")"
   ]
  }
 ],
 "metadata": {},
 "nbformat": 4,
 "nbformat_minor": 5
}
